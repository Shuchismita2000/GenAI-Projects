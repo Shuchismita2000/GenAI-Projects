{
 "cells": [
  {
   "cell_type": "markdown",
   "metadata": {},
   "source": [
    "# ==============================================\n",
    "# 📚 AI BOOK RECOMMENDATION CHATBOT (RAG)\n",
    "# ==============================================\n",
    "# ✅ Connects to Pinecone to retrieve stored book embeddings\n",
    "# ✅ Converts user queries into embeddings\n",
    "# ✅ Performs a vector similarity search in Pinecone\n",
    "# ✅ Retrieves metadata for the top recommended books\n",
    "# ✅ Uses Ollama to generate a conversational response\n",
    "# =============================================="
   ]
  },
  {
   "cell_type": "code",
   "execution_count": 1,
   "metadata": {},
   "outputs": [
    {
     "name": "stderr",
     "output_type": "stream",
     "text": [
      "c:\\Users\\shuchismita_mallick.Shuchismita\\anaconda3\\envs\\aienv\\lib\\site-packages\\pinecone\\data\\index.py:1: TqdmWarning: IProgress not found. Please update jupyter and ipywidgets. See https://ipywidgets.readthedocs.io/en/stable/user_install.html\n",
      "  from tqdm.autonotebook import tqdm\n"
     ]
    }
   ],
   "source": [
    "# Import necessary libraries\n",
    "import pinecone  # For vector search\n",
    "from sentence_transformers import SentenceTransformer  # For text embeddings\n",
    "import ollama  # For AI-generated responses"
   ]
  },
  {
   "cell_type": "code",
   "execution_count": 2,
   "metadata": {},
   "outputs": [],
   "source": [
    "# -----------------------------------------------\n",
    "# 🔹 STEP 1: INITIALIZE PINECONE CONNECTION\n",
    "# -----------------------------------------------\n",
    "\n",
    "# Pinecone API credentials\n",
    "PINECONE_API_KEY = \"pcsk_6WjJ7w_Mdge2WY3AVCqN5RafTo3byPqv7ECMdRSr1SZ4oS6quNbkDb4Lc7tnE2esM9DKQe\"\n",
    "PINECONE_ENV = \"us-east-1\"  # Your selected region\n",
    "\n",
    "# Initialize Pinecone\n",
    "pinecone_client = pinecone.Pinecone(api_key=PINECONE_API_KEY, environment=PINECONE_ENV)\n",
    "\n",
    "# Connect to your Pinecone index\n",
    "index_name = \"book-recommendations\"\n",
    "index = pinecone_client.Index(index_name)"
   ]
  },
  {
   "cell_type": "code",
   "execution_count": 3,
   "metadata": {},
   "outputs": [],
   "source": [
    "# -----------------------------------------------\n",
    "# 🔹 STEP 2: LOAD THE EMBEDDING MODEL\n",
    "# -----------------------------------------------\n",
    "# Load the sentence-transformer model (same as the one used for storing book embeddings)\n",
    "embedding_model = SentenceTransformer(\"sentence-transformers/all-MiniLM-L6-v2\")\n",
    "\n",
    "def get_query_embedding(query):\n",
    "    \"\"\"\n",
    "    Converts a user query into an embedding using the pre-trained sentence transformer model.\n",
    "    \n",
    "    Args:\n",
    "        query (str): The user's search query.\n",
    "    \n",
    "    Returns:\n",
    "        list: A vector embedding of the query text.\n",
    "    \"\"\"\n",
    "    return embedding_model.encode(query).tolist()  # Convert to list for Pinecone search\n"
   ]
  },
  {
   "cell_type": "code",
   "execution_count": 4,
   "metadata": {},
   "outputs": [],
   "source": [
    "# -----------------------------------------------\n",
    "# 🔹 STEP 3: SEARCH PINECONE FOR SIMILAR BOOKS\n",
    "# -----------------------------------------------\n",
    "def retrieve_similar_books(user_query, top_k=5):\n",
    "    \"\"\"\n",
    "    Converts a user query into an embedding and retrieves the most similar books from Pinecone.\n",
    "    \n",
    "    Args:\n",
    "        user_query (str): The user's search request.\n",
    "        top_k (int): The number of recommended books to retrieve.\n",
    "    \n",
    "    Returns:\n",
    "        list: A list of recommended books with metadata (title, author, genre, similarity score).\n",
    "    \"\"\"\n",
    "    # Convert user query into an embedding\n",
    "    query_embedding = get_query_embedding(user_query)\n",
    "\n",
    "    # Perform a vector similarity search in Pinecone\n",
    "    search_results = index.query(vector=query_embedding, top_k=top_k, include_metadata=True)\n",
    "\n",
    "    # Extract book metadata from search results\n",
    "    recommended_books = []\n",
    "    for match in search_results[\"matches\"]:\n",
    "        recommended_books.append({\n",
    "            \"title\": match[\"metadata\"].get(\"title\", \"Unknown Title\"),\n",
    "            \"author\": match[\"metadata\"].get(\"author\", \"Unknown Author\"),\n",
    "            \"genre\": match[\"metadata\"].get(\"category\", \"Unknown Category\"),\n",
    "            \"score\": match[\"score\"]  # Similarity score\n",
    "        })\n",
    "\n",
    "    return recommended_books\n"
   ]
  },
  {
   "cell_type": "code",
   "execution_count": 5,
   "metadata": {},
   "outputs": [],
   "source": [
    "# -----------------------------------------------\n",
    "# 🔹 STEP 4: FORMAT RESULTS & GENERATE RESPONSE USING OLLAMA\n",
    "# -----------------------------------------------\n",
    "def generate_recommendation_response(user_query, recommended_books):\n",
    "    \"\"\"\n",
    "    Takes the user query and retrieved book recommendations, and generates a conversational response using Ollama.\n",
    "    \n",
    "    Args:\n",
    "        user_query (str): The user's search query.\n",
    "        recommended_books (list): A list of recommended books with metadata.\n",
    "    \n",
    "    Returns:\n",
    "        str: A user-friendly, AI-generated response summarizing the book recommendations.\n",
    "    \"\"\"\n",
    "    # Format the recommended books into a structured text\n",
    "    book_list = \"\\n\".join([\n",
    "        f\"📖 Title: {book['title']}\\n\"\n",
    "        f\"👨‍💻 Author: {book['author']}\\n\"\n",
    "        f\"🏷️ Genre: {book['genre']}\\n\"\n",
    "        f\"⭐ Relevance Score: {book['score']:.2f}\\n\"\n",
    "        for book in recommended_books\n",
    "    ])\n",
    "\n",
    "    # Construct the prompt for Ollama\n",
    "    prompt = f\"\"\"\n",
    "    You are an AI book expert helping a user find the best books.\n",
    "\n",
    "    User Query: \"{user_query}\"\n",
    "\n",
    "    Based on their request, here are some book recommendations:\n",
    "\n",
    "    {book_list}\n",
    "\n",
    "    Please generate a friendly, engaging response that summarizes these book recommendations in a conversational way.\n",
    "    \"\"\"\n",
    "\n",
    "    # Query Ollama with the formatted prompt\n",
    "    response = ollama.chat(model=\"mistral\", messages=[{\"role\": \"user\", \"content\": prompt}])\n",
    "\n",
    "    return response[\"message\"][\"content\"]  # Extract the generated response\n"
   ]
  },
  {
   "cell_type": "code",
   "execution_count": 6,
   "metadata": {},
   "outputs": [],
   "source": [
    "# -----------------------------------------------\n",
    "# 🔹 STEP 5: MAIN FUNCTION TO RUN THE RECOMMENDATION SYSTEM\n",
    "# -----------------------------------------------\n",
    "def recommend_books(user_query, top_k=5):\n",
    "    \"\"\"\n",
    "    Retrieves similar books from Pinecone and generates a conversational response using Ollama.\n",
    "    \n",
    "    Args:\n",
    "        user_query (str): The user's search request.\n",
    "        top_k (int): The number of recommendations to fetch.\n",
    "    \n",
    "    Returns:\n",
    "        str: A natural language response with book recommendations.\n",
    "    \"\"\"\n",
    "    # Retrieve similar books from Pinecone\n",
    "    recommended_books = retrieve_similar_books(user_query, top_k)\n",
    "\n",
    "    # If no recommendations found, return a message\n",
    "    if not recommended_books:\n",
    "        return \"❌ Sorry, I couldn't find any matching books. Try a different genre or theme!\"\n",
    "\n",
    "    # Generate a user-friendly response using Ollama\n",
    "    response = generate_recommendation_response(user_query, recommended_books)\n",
    "\n",
    "    return response\n"
   ]
  },
  {
   "cell_type": "code",
   "execution_count": 7,
   "metadata": {},
   "outputs": [
    {
     "name": "stdout",
     "output_type": "stream",
     "text": [
      "\n",
      "📚 AI Book Recommendation:\n",
      "\n",
      " Hi there! I'm delighted to help you find the perfect mystery novel with a detective solving a crime. Here are some recommendations based on your request:\n",
      "\n",
      "1. \"Crime Novels\" - This is an anthology of short stories by various authors, all revolving around the theme of crime and detection. It's a great way to explore different writing styles and plot twists!\n",
      "\n",
      "2. \"The Simple Art of Murder\" by Raymond Chandler - A classic detective novel set in post-war America. The story follows Philip Marlowe as he investigates a seemingly simple case that leads to a complex web of deceit and danger.\n",
      "\n",
      "3. \"The Hidden Hand\" by Carroll John Daly - This is an early detective novel featuring the character John Quill, who's tasked with solving a series of baffling murders in a remote mining town. The plot is filled with suspense and surprise!\n",
      "\n",
      "4. \"Filth\" by Irvine Welsh - While it might not be your traditional detective story, it does feature a detective protagonist struggling with his personal demons as he attempts to solve a series of crimes. It's a raw, gritty read that will keep you guessing till the end!\n",
      "\n",
      "5. \"Neon Lit: City of Glass\" by Bob Callahan - Set in a futuristic city, this novel follows a detective named Joe Pike as he investigates a series of gruesome murders. With its neo-noir setting and intricate plot, it's a must-read for fans of the genre!\n",
      "\n",
      "I hope these recommendations help you find your next great read! Enjoy your mystery adventures! 😊\n"
     ]
    }
   ],
   "source": [
    "# -----------------------------------------------\n",
    "# 🔹 STEP 6: TESTING THE RECOMMENDATION SYSTEM\n",
    "# -----------------------------------------------\n",
    "# Example query\n",
    "user_query = \"A mystery novel with a detective solving a crime\"\n",
    "\n",
    "# Get book recommendations\n",
    "response = recommend_books(user_query)\n",
    "\n",
    "# Print the AI-generated response\n",
    "print(\"\\n📚 AI Book Recommendation:\\n\")\n",
    "print(response)\n"
   ]
  }
 ],
 "metadata": {
  "kernelspec": {
   "display_name": "aienv",
   "language": "python",
   "name": "python3"
  },
  "language_info": {
   "codemirror_mode": {
    "name": "ipython",
    "version": 3
   },
   "file_extension": ".py",
   "mimetype": "text/x-python",
   "name": "python",
   "nbconvert_exporter": "python",
   "pygments_lexer": "ipython3",
   "version": "3.9.21"
  }
 },
 "nbformat": 4,
 "nbformat_minor": 2
}
