{
 "cells": [
  {
   "cell_type": "markdown",
   "id": "bc49fc0f",
   "metadata": {
    "vscode": {
     "languageId": "plaintext"
    }
   },
   "source": [
    "## Customer Purchase Data"
   ]
  },
  {
   "cell_type": "code",
   "execution_count": 1,
   "id": "a1045a60",
   "metadata": {},
   "outputs": [
    {
     "name": "stdout",
     "output_type": "stream",
     "text": [
      "  Purchase ID Customer ID  Product ID                      Product Name  \\\n",
      "0  Purchase_1        C001        1004      Mamaearth Tea Tree Face Wash   \n",
      "1  Purchase_2        C001        1004      Mamaearth Tea Tree Face Wash   \n",
      "2  Purchase_3        C001        1005  Mamaearth Anti-Hair Fall Shampoo   \n",
      "3  Purchase_4        C001        1005  Mamaearth Anti-Hair Fall Shampoo   \n",
      "4  Purchase_5        C001        1005  Mamaearth Anti-Hair Fall Shampoo   \n",
      "\n",
      "  Purchase Date  Quantity  Total Price (INR) Payment Method Discount Applied  \\\n",
      "0    2023-08-12         2                698    Credit Card               5%   \n",
      "1    2023-08-12         2                698    Net Banking              20%   \n",
      "2    2023-10-23         2                698    Net Banking              15%   \n",
      "3    2023-10-23         1                349    Net Banking              20%   \n",
      "4    2023-11-19         1                349    Net Banking              15%   \n",
      "\n",
      "    Location  Customer Rating  \n",
      "0      Delhi              4.6  \n",
      "1       Pune              4.4  \n",
      "2       Pune              4.6  \n",
      "3     Mumbai              4.8  \n",
      "4  Bangalore              4.7  \n"
     ]
    }
   ],
   "source": [
    "import pandas as pd\n",
    "import numpy as np\n",
    "from datetime import datetime, timedelta\n",
    "import random\n",
    "\n",
    "# Sample product data (for 6 products as an example)\n",
    "products = {\n",
    "    1001: 'Mamaearth Onion Hair Oil',\n",
    "    1002: 'Mamaearth Vitamin C Face Cream',\n",
    "    1003: 'Mamaearth Charcoal Body Wash',\n",
    "    1004: 'Mamaearth Tea Tree Face Wash',\n",
    "    1005: 'Mamaearth Anti-Hair Fall Shampoo',\n",
    "    1006: 'Mamaearth Ubtan Face Mask'\n",
    "}\n",
    "\n",
    "# Sample customer data (180-250 unique customers)\n",
    "num_customers = random.randint(180, 250)\n",
    "customers = [f'C{i:03d}' for i in range(1, num_customers + 1)]\n",
    "\n",
    "# Generate dates for 122 weeks (854 days)\n",
    "start_date = datetime(2023, 4, 1)\n",
    "end_date = start_date + timedelta(days=854-1)\n",
    "date_range = pd.date_range(start=start_date, end=end_date, freq='D')\n",
    "\n",
    "# Generate random purchases\n",
    "purchase_data = []\n",
    "for customer in customers:\n",
    "    # Randomize purchase frequency (some customers buy every 7 days, others every 30 days)\n",
    "    purchase_frequency = random.choice([7, 14, 30])  # Can buy every week, two weeks, or month\n",
    "    \n",
    "    # Generate random number of purchases per customer over 122 weeks\n",
    "    num_purchases = random.randint(5, 12)  # Each customer will make 5-12 purchases over the span\n",
    "    \n",
    "    # Select random purchase dates for the customer\n",
    "    purchase_dates = [start_date + timedelta(days=random.randint(0, 854)) for _ in range(num_purchases)]\n",
    "    purchase_dates = sorted(list(set(purchase_dates)))  # Remove duplicates and sort\n",
    "    \n",
    "    for date in purchase_dates:\n",
    "        num_products = np.random.randint(1, 3)  # Randomly choose 1 or 2 products per purchase\n",
    "        for _ in range(num_products):\n",
    "            product_id = np.random.choice(list(products.keys()))\n",
    "            quantity = np.random.randint(1, 3)  # Random quantity\n",
    "            price = 399 if product_id == 1001 else 499 if product_id == 1002 else 349  # Example pricing logic\n",
    "            total_price = price * quantity\n",
    "            payment_method = np.random.choice(['Credit Card', 'Debit Card', 'UPI', 'Net Banking'])\n",
    "            discount = np.random.choice([0, 5, 10, 15, 20])  # Random discount\n",
    "            location = np.random.choice(['Delhi', 'Mumbai', 'Bangalore', 'Chennai', 'Pune'])\n",
    "            rating = np.random.uniform(3.5, 5.0)  # Random rating between 3.5 and 5.0\n",
    "            purchase_data.append([f\"Purchase_{len(purchase_data)+1}\", customer, product_id, products[product_id], date, quantity, total_price, payment_method, f\"{discount}%\", location, round(rating, 1)])\n",
    "\n",
    "# Create DataFrame\n",
    "df = pd.DataFrame(purchase_data, columns=['Purchase ID', 'Customer ID', 'Product ID', 'Product Name', 'Purchase Date', 'Quantity', 'Total Price (INR)', 'Payment Method', 'Discount Applied', 'Location', 'Customer Rating'])\n",
    "\n",
    "# Show a sample\n",
    "print(df.head())\n",
    "\n",
    "# Save to CSV\n",
    "df.to_csv('customer_purchase_data.csv', index=False)\n"
   ]
  },
  {
   "cell_type": "code",
   "execution_count": 2,
   "id": "b2aa49a0",
   "metadata": {},
   "outputs": [
    {
     "data": {
      "text/plain": [
       "(2825, 11)"
      ]
     },
     "execution_count": 2,
     "metadata": {},
     "output_type": "execute_result"
    }
   ],
   "source": [
    "df.shape"
   ]
  },
  {
   "cell_type": "code",
   "execution_count": 3,
   "id": "9a7a7fa5",
   "metadata": {},
   "outputs": [
    {
     "name": "stdout",
     "output_type": "stream",
     "text": [
      "  Purchase ID Customer ID  Product ID                  Product Name  \\\n",
      "0  Purchase_1        C054        1006     Mamaearth Ubtan Face Mask   \n",
      "1  Purchase_2        C111        1006     Mamaearth Ubtan Face Mask   \n",
      "2  Purchase_3        C090        1006     Mamaearth Ubtan Face Mask   \n",
      "3  Purchase_4        C090        1003  Mamaearth Charcoal Body Wash   \n",
      "4  Purchase_5        C129        1001      Mamaearth Onion Hair Oil   \n",
      "\n",
      "  Purchase Date  Quantity  Total Price (INR) Payment Method Discount Applied  \\\n",
      "0    2023-04-01         2                698    Credit Card              15%   \n",
      "1    2023-04-01         1                349            UPI               5%   \n",
      "2    2023-04-01         2                698     Debit Card              10%   \n",
      "3    2023-04-01         1                349    Net Banking              10%   \n",
      "4    2023-04-01         2                798            UPI              15%   \n",
      "\n",
      "    Location  Customer Rating  \n",
      "0  Bangalore              4.6  \n",
      "1    Chennai              4.0  \n",
      "2      Delhi              3.5  \n",
      "3      Delhi              3.7  \n",
      "4      Delhi              4.7  \n"
     ]
    }
   ],
   "source": [
    "import pandas as pd\n",
    "import numpy as np\n",
    "from datetime import datetime, timedelta\n",
    "import random\n",
    "\n",
    "# Sample product data (for 6 products as an example)\n",
    "products = {\n",
    "    1001: 'Mamaearth Onion Hair Oil',\n",
    "    1002: 'Mamaearth Vitamin C Face Cream',\n",
    "    1003: 'Mamaearth Charcoal Body Wash',\n",
    "    1004: 'Mamaearth Tea Tree Face Wash',\n",
    "    1005: 'Mamaearth Anti-Hair Fall Shampoo',\n",
    "    1006: 'Mamaearth Ubtan Face Mask'\n",
    "}\n",
    "\n",
    "# Sample customer data (180-250 unique customers)\n",
    "num_customers = random.randint(180, 250)\n",
    "customers = [f'C{i:03d}' for i in range(1, num_customers + 1)]\n",
    "\n",
    "# Generate dates for 122 weeks (854 days)\n",
    "start_date = datetime(2023, 4, 1)\n",
    "end_date = start_date + timedelta(days=854-1)\n",
    "date_range = pd.date_range(start=start_date, end=end_date, freq='D')\n",
    "\n",
    "# Number of transactions per day\n",
    "transactions_per_day = 50\n",
    "\n",
    "# Generate random purchases\n",
    "purchase_data = []\n",
    "purchase_id = 1\n",
    "for date in date_range:\n",
    "    for _ in range(transactions_per_day):  # 50 transactions per day\n",
    "        customer = random.choice(customers)\n",
    "        num_products = np.random.randint(1, 3)  # Randomly choose 1 or 2 products per purchase\n",
    "        for _ in range(num_products):\n",
    "            product_id = np.random.choice(list(products.keys()))\n",
    "            quantity = np.random.randint(1, 3)  # Random quantity\n",
    "            price = 399 if product_id == 1001 else 499 if product_id == 1002 else 349  # Example pricing logic\n",
    "            total_price = price * quantity\n",
    "            payment_method = np.random.choice(['Credit Card', 'Debit Card', 'UPI', 'Net Banking'])\n",
    "            discount = np.random.choice([0, 5, 10, 15, 20])  # Random discount\n",
    "            location = np.random.choice(['Delhi', 'Mumbai', 'Bangalore', 'Chennai', 'Pune'])\n",
    "            rating = np.random.uniform(3.5, 5.0)  # Random rating between 3.5 and 5.0\n",
    "            purchase_data.append([f\"Purchase_{purchase_id}\", customer, product_id, products[product_id], date, quantity, total_price, payment_method, f\"{discount}%\", location, round(rating, 1)])\n",
    "            purchase_id += 1\n",
    "\n",
    "# Create DataFrame\n",
    "df = pd.DataFrame(purchase_data, columns=['Purchase ID', 'Customer ID', 'Product ID', 'Product Name', 'Purchase Date', 'Quantity', 'Total Price (INR)', 'Payment Method', 'Discount Applied', 'Location', 'Customer Rating'])\n",
    "\n",
    "# Show a sample\n",
    "print(df.head())\n",
    "\n",
    "# Save to CSV\n",
    "df.to_csv('customer_purchase_data_large.csv', index=False)\n"
   ]
  },
  {
   "cell_type": "code",
   "execution_count": 4,
   "id": "f72d75c9",
   "metadata": {},
   "outputs": [
    {
     "data": {
      "text/plain": [
       "(64000, 11)"
      ]
     },
     "execution_count": 4,
     "metadata": {},
     "output_type": "execute_result"
    }
   ],
   "source": [
    "df.shape"
   ]
  },
  {
   "cell_type": "code",
   "execution_count": 5,
   "id": "75ae426c",
   "metadata": {},
   "outputs": [
    {
     "data": {
      "text/plain": [
       "233"
      ]
     },
     "execution_count": 5,
     "metadata": {},
     "output_type": "execute_result"
    }
   ],
   "source": [
    "df['Customer ID'].nunique()"
   ]
  },
  {
   "cell_type": "code",
   "execution_count": 6,
   "id": "c545d556",
   "metadata": {},
   "outputs": [
    {
     "name": "stdout",
     "output_type": "stream",
     "text": [
      "Collecting faker\n",
      "  Downloading faker-37.1.0-py3-none-any.whl.metadata (15 kB)\n",
      "Requirement already satisfied: tzdata in /home/codespace/.local/lib/python3.12/site-packages (from faker) (2025.1)\n",
      "Downloading faker-37.1.0-py3-none-any.whl (1.9 MB)\n",
      "\u001b[2K   \u001b[90m━━━━━━━━━━━━━━━━━━━━━━━━━━━━━━━━━━━━━━━━\u001b[0m \u001b[32m1.9/1.9 MB\u001b[0m \u001b[31m9.9 MB/s\u001b[0m eta \u001b[36m0:00:00\u001b[0ma \u001b[36m0:00:01\u001b[0m\n",
      "\u001b[?25hInstalling collected packages: faker\n",
      "Successfully installed faker-37.1.0\n"
     ]
    }
   ],
   "source": [
    "!pip install faker"
   ]
  },
  {
   "cell_type": "code",
   "execution_count": 7,
   "id": "8cdd0562",
   "metadata": {},
   "outputs": [
    {
     "name": "stdout",
     "output_type": "stream",
     "text": [
      "  Customer ID              Name  Age  Gender   Location    Skin Type  \\\n",
      "0        C001   Faris Chaudhari   50    Male    Chennai         Oily   \n",
      "1        C002      Jagrati Nori   56  Female  Bangalore  Combination   \n",
      "2        C003     Anjali Talwar   41    Male     Mumbai         Oily   \n",
      "3        C004       Jairaj Gill   21   Other      Delhi         Oily   \n",
      "4        C005  Zehaan Varughese   44   Other     Mumbai  Combination   \n",
      "\n",
      "  Hair Type Purchase Frequency Preferred Category  Average Spend (INR)  \n",
      "0      Wavy             Weekly           Skincare                 1058  \n",
      "1      Bald             Weekly          Hair Care                 1410  \n",
      "2      Bald         Bi-Monthly           Skincare                 1436  \n",
      "3     Curly            Monthly           Skincare                 1463  \n",
      "4      Wavy            Monthly          Body Care                 1982  \n"
     ]
    }
   ],
   "source": [
    "import pandas as pd\n",
    "import numpy as np\n",
    "import random\n",
    "from faker import Faker\n",
    "\n",
    "# Initialize Faker\n",
    "fake = Faker('en_IN')  # Using 'en_IN' locale to generate Indian names\n",
    "\n",
    "# Number of customers\n",
    "num_customers = 233\n",
    "\n",
    "# Sample locations\n",
    "locations = ['Delhi', 'Mumbai', 'Bangalore', 'Chennai', 'Pune']\n",
    "\n",
    "# Sample skin types\n",
    "skin_types = ['Dry', 'Oily', 'Combination', 'Normal']\n",
    "\n",
    "# Sample hair types\n",
    "hair_types = ['Straight', 'Curly', 'Wavy', 'Bald']\n",
    "\n",
    "# Sample purchase frequencies\n",
    "purchase_frequencies = ['Weekly', 'Monthly', 'Bi-Monthly', 'Occasionally']\n",
    "\n",
    "# Sample preferred categories\n",
    "categories = ['Skincare', 'Hair Care', 'Body Care']\n",
    "\n",
    "# Create Customer IDs\n",
    "customers = [f'C{i:03d}' for i in range(1, num_customers + 1)]\n",
    "\n",
    "# Generate customer demographic data\n",
    "customer_data = []\n",
    "for customer in customers:\n",
    "    # Generate random name using Faker\n",
    "    name = fake.name()\n",
    "\n",
    "    age = random.randint(18, 60)  # Random age between 18 and 60\n",
    "    gender = random.choice(['Male', 'Female', 'Other'])\n",
    "    location = random.choice(locations)\n",
    "    skin_type = random.choice(skin_types)\n",
    "    hair_type = random.choice(hair_types)\n",
    "    purchase_frequency = random.choice(purchase_frequencies)\n",
    "    preferred_category = random.choice(categories)\n",
    "    avg_spend = random.randint(800, 2000)  # Random average spend between 800 and 2000 INR\n",
    "\n",
    "    customer_data.append([customer, name, age, gender, location, skin_type, hair_type, purchase_frequency, preferred_category, avg_spend])\n",
    "\n",
    "# Create DataFrame\n",
    "df_customers = pd.DataFrame(customer_data, columns=['Customer ID', 'Name', 'Age', 'Gender', 'Location', 'Skin Type', 'Hair Type', 'Purchase Frequency', 'Preferred Category', 'Average Spend (INR)'])\n",
    "\n",
    "# Show a sample\n",
    "print(df_customers.head())\n",
    "\n",
    "# Save to CSV\n",
    "df_customers.to_csv('customer_demographic_data_with_real_names.csv', index=False)\n"
   ]
  },
  {
   "cell_type": "code",
   "execution_count": 8,
   "id": "cff0ed35",
   "metadata": {},
   "outputs": [
    {
     "data": {
      "text/plain": [
       "(233, 10)"
      ]
     },
     "execution_count": 8,
     "metadata": {},
     "output_type": "execute_result"
    }
   ],
   "source": [
    "df_customers.shape"
   ]
  },
  {
   "cell_type": "code",
   "execution_count": 10,
   "id": "77a2d3d3",
   "metadata": {},
   "outputs": [
    {
     "name": "stdout",
     "output_type": "stream",
     "text": [
      "   Promotion ID  Product ID    Promotion Type Start Date   End Date  \\\n",
      "0             1        1001  Buy 1 Get 1 Free 2023-07-26 2023-08-09   \n",
      "1             2        1001     Weekend Offer 2023-11-09 2023-11-19   \n",
      "2             3        1001  Buy 1 Get 1 Free 2023-12-18 2024-01-01   \n",
      "3             4        1001        Flash Sale 2023-10-14 2023-11-13   \n",
      "4             5        1002      Holiday Sale 2023-01-14 2023-01-28   \n",
      "\n",
      "   Discount (%)  Units Sold  Sales (INR)  Revenue Growth (%)  \\\n",
      "0            30         358      99989.4        11059.531250   \n",
      "1            10         714     256397.4        35810.000000   \n",
      "2            15         684     231978.6        20054.526499   \n",
      "3            15         222      75291.3         7466.964824   \n",
      "4            20         933     297813.6        15954.641509   \n",
      "\n",
      "   Promotion Duration (Days) Promo Effectiveness  \n",
      "0                         14                High  \n",
      "1                         10                High  \n",
      "2                         14                High  \n",
      "3                         30                High  \n",
      "4                         14                High  \n"
     ]
    }
   ],
   "source": [
    "import pandas as pd\n",
    "import numpy as np\n",
    "from datetime import datetime, timedelta\n",
    "import random\n",
    "\n",
    "# Sample product data (for 6 products as an example)\n",
    "products = {\n",
    "    1001: 'Mamaearth Onion Hair Oil',\n",
    "    1002: 'Mamaearth Vitamin C Face Cream',\n",
    "    1003: 'Mamaearth Charcoal Body Wash',\n",
    "    1004: 'Mamaearth Tea Tree Face Wash',\n",
    "    1005: 'Mamaearth Anti-Hair Fall Shampoo',\n",
    "    1006: 'Mamaearth Ubtan Face Mask'\n",
    "}\n",
    "\n",
    "# Generate a list of promotions\n",
    "promotion_types = ['Flash Sale', 'Seasonal Discount', 'Holiday Sale', 'Weekend Offer', 'Buy 1 Get 1 Free']\n",
    "promotion_duration = [7, 10, 14, 30]  # Promotion duration in days\n",
    "\n",
    "# We assume 3-5 promotions per product over a year\n",
    "promotion_data = []\n",
    "promotion_id = 1\n",
    "\n",
    "for product_id in products.keys():\n",
    "    # Random number of promotions for this product\n",
    "    num_promotions = random.randint(3, 5)\n",
    "    \n",
    "    for _ in range(num_promotions):\n",
    "        promotion_type = random.choice(promotion_types)\n",
    "        discount = random.choice([10, 15, 20, 25, 30])  # Random discount between 10% and 30%\n",
    "        \n",
    "        # Random start and end dates for the promotion\n",
    "        start_date = datetime(2023, random.randint(1, 12), random.randint(1, 28))\n",
    "        duration = random.choice(promotion_duration)\n",
    "        end_date = start_date + timedelta(days=duration)\n",
    "        \n",
    "        # Random units sold during promotion (simulating demand)\n",
    "        units_sold = random.randint(100, 1000)  # Random units sold per promotion\n",
    "        normal_sales = random.randint(500, 2000)  # Normal sales without promotion\n",
    "        sales_revenue = units_sold * 399 * (1 - discount / 100)  # Revenue with discount\n",
    "        revenue_growth = ((sales_revenue - normal_sales) / normal_sales) * 100  # Revenue growth percentage\n",
    "        \n",
    "        # Promo effectiveness (based on revenue growth)\n",
    "        if revenue_growth > 50:\n",
    "            promo_effectiveness = 'High'\n",
    "        elif revenue_growth > 20:\n",
    "            promo_effectiveness = 'Medium'\n",
    "        else:\n",
    "            promo_effectiveness = 'Low'\n",
    "        \n",
    "        promotion_data.append([promotion_id, product_id, promotion_type, start_date, end_date, discount, units_sold, sales_revenue, revenue_growth, duration, promo_effectiveness])\n",
    "        promotion_id += 1\n",
    "\n",
    "# Create DataFrame\n",
    "df_promotions = pd.DataFrame(promotion_data, columns=['Promotion ID', 'Product ID', 'Promotion Type', 'Start Date', 'End Date', 'Discount (%)', 'Units Sold', 'Sales (INR)', 'Revenue Growth (%)', 'Promotion Duration (Days)', 'Promo Effectiveness'])\n",
    "\n",
    "# Show a sample\n",
    "print(df_promotions.head())\n",
    "\n",
    "# Save to CSV\n",
    "df_promotions.to_csv('sales_trends_and_promotions.csv', index=False)"
   ]
  }
 ],
 "metadata": {
  "kernelspec": {
   "display_name": "Python 3",
   "language": "python",
   "name": "python3"
  },
  "language_info": {
   "codemirror_mode": {
    "name": "ipython",
    "version": 3
   },
   "file_extension": ".py",
   "mimetype": "text/x-python",
   "name": "python",
   "nbconvert_exporter": "python",
   "pygments_lexer": "ipython3",
   "version": "3.12.1"
  }
 },
 "nbformat": 4,
 "nbformat_minor": 5
}
